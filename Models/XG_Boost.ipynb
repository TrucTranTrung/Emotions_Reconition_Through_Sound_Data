{
  "cells": [
    {
      "cell_type": "markdown",
      "metadata": {
        "id": "PecD4zCxxxlm"
      },
      "source": [
        "# **Import library and Mount drive**"
      ]
    },
    {
      "cell_type": "code",
      "execution_count": 1,
      "metadata": {
        "colab": {
          "base_uri": "https://localhost:8080/"
        },
        "id": "wp92j9DRcC-W",
        "outputId": "2d3e887d-25a0-434d-d42e-6e8b631c889e"
      },
      "outputs": [
        {
          "name": "stdout",
          "output_type": "stream",
          "text": [
            "Requirement already satisfied: pydub in /usr/local/lib/python3.10/dist-packages (0.25.1)\n",
            "Requirement already satisfied: xgboost in /usr/local/lib/python3.10/dist-packages (2.1.0)\n",
            "Requirement already satisfied: numpy in /usr/local/lib/python3.10/dist-packages (from xgboost) (1.25.2)\n",
            "Requirement already satisfied: nvidia-nccl-cu12 in /usr/local/lib/python3.10/dist-packages (from xgboost) (2.22.3)\n",
            "Requirement already satisfied: scipy in /usr/local/lib/python3.10/dist-packages (from xgboost) (1.13.1)\n",
            "Requirement already satisfied: catboost in /usr/local/lib/python3.10/dist-packages (1.2.5)\n",
            "Requirement already satisfied: graphviz in /usr/local/lib/python3.10/dist-packages (from catboost) (0.20.3)\n",
            "Requirement already satisfied: matplotlib in /usr/local/lib/python3.10/dist-packages (from catboost) (3.7.1)\n",
            "Requirement already satisfied: numpy>=1.16.0 in /usr/local/lib/python3.10/dist-packages (from catboost) (1.25.2)\n",
            "Requirement already satisfied: pandas>=0.24 in /usr/local/lib/python3.10/dist-packages (from catboost) (2.0.3)\n",
            "Requirement already satisfied: scipy in /usr/local/lib/python3.10/dist-packages (from catboost) (1.13.1)\n",
            "Requirement already satisfied: plotly in /usr/local/lib/python3.10/dist-packages (from catboost) (5.15.0)\n",
            "Requirement already satisfied: six in /usr/local/lib/python3.10/dist-packages (from catboost) (1.16.0)\n",
            "Requirement already satisfied: python-dateutil>=2.8.2 in /usr/local/lib/python3.10/dist-packages (from pandas>=0.24->catboost) (2.8.2)\n",
            "Requirement already satisfied: pytz>=2020.1 in /usr/local/lib/python3.10/dist-packages (from pandas>=0.24->catboost) (2024.1)\n",
            "Requirement already satisfied: tzdata>=2022.1 in /usr/local/lib/python3.10/dist-packages (from pandas>=0.24->catboost) (2024.1)\n",
            "Requirement already satisfied: contourpy>=1.0.1 in /usr/local/lib/python3.10/dist-packages (from matplotlib->catboost) (1.2.1)\n",
            "Requirement already satisfied: cycler>=0.10 in /usr/local/lib/python3.10/dist-packages (from matplotlib->catboost) (0.12.1)\n",
            "Requirement already satisfied: fonttools>=4.22.0 in /usr/local/lib/python3.10/dist-packages (from matplotlib->catboost) (4.53.1)\n",
            "Requirement already satisfied: kiwisolver>=1.0.1 in /usr/local/lib/python3.10/dist-packages (from matplotlib->catboost) (1.4.5)\n",
            "Requirement already satisfied: packaging>=20.0 in /usr/local/lib/python3.10/dist-packages (from matplotlib->catboost) (24.1)\n",
            "Requirement already satisfied: pillow>=6.2.0 in /usr/local/lib/python3.10/dist-packages (from matplotlib->catboost) (9.4.0)\n",
            "Requirement already satisfied: pyparsing>=2.3.1 in /usr/local/lib/python3.10/dist-packages (from matplotlib->catboost) (3.1.2)\n",
            "Requirement already satisfied: tenacity>=6.2.0 in /usr/local/lib/python3.10/dist-packages (from plotly->catboost) (8.5.0)\n"
          ]
        }
      ],
      "source": [
        "!pip install pydub\n",
        "!pip install xgboost"
      ]
    },
    {
      "cell_type": "code",
      "execution_count": 2,
      "metadata": {
        "colab": {
          "base_uri": "https://localhost:8080/"
        },
        "id": "A0AB-pTctiBi",
        "outputId": "cad569ac-ef47-4c53-e2de-cefbf7833a3e"
      },
      "outputs": [
        {
          "name": "stderr",
          "output_type": "stream",
          "text": [
            "/usr/local/lib/python3.10/dist-packages/dask/dataframe/__init__.py:42: FutureWarning: \n",
            "Dask dataframe query planning is disabled because dask-expr is not installed.\n",
            "\n",
            "You can install it with `pip install dask[dataframe]` or `conda install dask`.\n",
            "This will raise in a future version.\n",
            "\n",
            "  warnings.warn(msg, FutureWarning)\n"
          ]
        }
      ],
      "source": [
        "import xgboost as xgb\n",
        "import pandas as pd\n",
        "import numpy as np\n",
        "import seaborn as sns\n",
        "import matplotlib.pyplot as plt\n",
        "from sklearn.model_selection import train_test_split\n",
        "from sklearn.metrics import mean_squared_error\n",
        "from sklearn.metrics import accuracy_score\n",
        "from sklearn.preprocessing import LabelEncoder\n",
        "from sklearn.metrics import precision_score, recall_score\n",
        "\n",
        "import lightgbm as lgb\n",
        "import tensorflow as tf\n",
        "from glob import glob\n",
        "\n",
        "import librosa\n",
        "import librosa.display\n",
        "import IPython.display as ipd\n",
        "\n",
        "import librosa\n",
        "import os\n",
        "from pydub import AudioSegment\n",
        "import librosa.display"
      ]
    },
    {
      "cell_type": "code",
      "execution_count": 3,
      "metadata": {
        "colab": {
          "base_uri": "https://localhost:8080/"
        },
        "id": "NqMFx0CgujDX",
        "outputId": "29e8161f-c585-423a-a5d2-1ace787d7896"
      },
      "outputs": [
        {
          "name": "stdout",
          "output_type": "stream",
          "text": [
            "Drive already mounted at /content/drive; to attempt to forcibly remount, call drive.mount(\"/content/drive\", force_remount=True).\n"
          ]
        }
      ],
      "source": [
        "from google.colab import drive\n",
        "drive.mount('/content/drive')"
      ]
    },
    {
      "cell_type": "markdown",
      "metadata": {
        "id": "oxPy8FZX_qyB"
      },
      "source": [
        "# **Data Extraction**"
      ]
    },
    {
      "cell_type": "code",
      "execution_count": 4,
      "metadata": {
        "id": "X3l2WPn5mToW"
      },
      "outputs": [],
      "source": [
        "df5=pd.read_csv('/content/drive/MyDrive/Sound_Expression/features_extraction.csv')"
      ]
    },
    {
      "cell_type": "code",
      "execution_count": 5,
      "metadata": {
        "colab": {
          "base_uri": "https://localhost:8080/",
          "height": 255
        },
        "id": "NqZSSiCKtE_P",
        "outputId": "d56900c0-e94c-447b-9649-18d855b3ab38"
      },
      "outputs": [
        {
          "data": {
            "application/vnd.google.colaboratory.intrinsic+json": {
              "type": "dataframe",
              "variable_name": "df5"
            },
            "text/html": [
              "\n",
              "  <div id=\"df-a4c2a540-581c-44a4-b9e7-ca63214e570c\" class=\"colab-df-container\">\n",
              "    <div>\n",
              "<style scoped>\n",
              "    .dataframe tbody tr th:only-of-type {\n",
              "        vertical-align: middle;\n",
              "    }\n",
              "\n",
              "    .dataframe tbody tr th {\n",
              "        vertical-align: top;\n",
              "    }\n",
              "\n",
              "    .dataframe thead th {\n",
              "        text-align: right;\n",
              "    }\n",
              "</style>\n",
              "<table border=\"1\" class=\"dataframe\">\n",
              "  <thead>\n",
              "    <tr style=\"text-align: right;\">\n",
              "      <th></th>\n",
              "      <th>File</th>\n",
              "      <th>Feature_0</th>\n",
              "      <th>Feature_1</th>\n",
              "      <th>Feature_2</th>\n",
              "      <th>Feature_3</th>\n",
              "      <th>Feature_4</th>\n",
              "      <th>Feature_5</th>\n",
              "      <th>Feature_6</th>\n",
              "      <th>Feature_7</th>\n",
              "      <th>Feature_8</th>\n",
              "      <th>...</th>\n",
              "      <th>Feature_10989</th>\n",
              "      <th>Feature_10990</th>\n",
              "      <th>Feature_10991</th>\n",
              "      <th>Feature_10992</th>\n",
              "      <th>Feature_10993</th>\n",
              "      <th>Feature_10994</th>\n",
              "      <th>Feature_10995</th>\n",
              "      <th>Feature_10996</th>\n",
              "      <th>Feature_10997</th>\n",
              "      <th>Label</th>\n",
              "    </tr>\n",
              "  </thead>\n",
              "  <tbody>\n",
              "    <tr>\n",
              "      <th>0</th>\n",
              "      <td>File_0</td>\n",
              "      <td>-894.628235</td>\n",
              "      <td>-894.628235</td>\n",
              "      <td>-894.628235</td>\n",
              "      <td>-894.628235</td>\n",
              "      <td>-894.628235</td>\n",
              "      <td>-894.628235</td>\n",
              "      <td>-894.628235</td>\n",
              "      <td>-894.628235</td>\n",
              "      <td>-894.628235</td>\n",
              "      <td>...</td>\n",
              "      <td>0.214977</td>\n",
              "      <td>-0.160975</td>\n",
              "      <td>-0.312369</td>\n",
              "      <td>-0.002868</td>\n",
              "      <td>0.289203</td>\n",
              "      <td>0.289203</td>\n",
              "      <td>0.289203</td>\n",
              "      <td>0.289203</td>\n",
              "      <td>0.289203</td>\n",
              "      <td>Neutral</td>\n",
              "    </tr>\n",
              "    <tr>\n",
              "      <th>1</th>\n",
              "      <td>File_1</td>\n",
              "      <td>-1068.115723</td>\n",
              "      <td>-1068.115723</td>\n",
              "      <td>-1068.115723</td>\n",
              "      <td>-1068.115723</td>\n",
              "      <td>-1068.115723</td>\n",
              "      <td>-1068.115723</td>\n",
              "      <td>-1068.115723</td>\n",
              "      <td>-1068.115723</td>\n",
              "      <td>-1068.115723</td>\n",
              "      <td>...</td>\n",
              "      <td>-0.039285</td>\n",
              "      <td>0.743088</td>\n",
              "      <td>1.056236</td>\n",
              "      <td>0.809565</td>\n",
              "      <td>0.541603</td>\n",
              "      <td>0.541603</td>\n",
              "      <td>0.541603</td>\n",
              "      <td>0.541603</td>\n",
              "      <td>0.541603</td>\n",
              "      <td>Calm</td>\n",
              "    </tr>\n",
              "    <tr>\n",
              "      <th>2</th>\n",
              "      <td>File_2</td>\n",
              "      <td>-890.555115</td>\n",
              "      <td>-890.555115</td>\n",
              "      <td>-890.555115</td>\n",
              "      <td>-890.555115</td>\n",
              "      <td>-890.555115</td>\n",
              "      <td>-890.555115</td>\n",
              "      <td>-890.555115</td>\n",
              "      <td>-890.555115</td>\n",
              "      <td>-890.555115</td>\n",
              "      <td>...</td>\n",
              "      <td>0.499987</td>\n",
              "      <td>0.216365</td>\n",
              "      <td>0.346787</td>\n",
              "      <td>0.421624</td>\n",
              "      <td>0.238669</td>\n",
              "      <td>0.238669</td>\n",
              "      <td>0.238669</td>\n",
              "      <td>0.238669</td>\n",
              "      <td>0.238669</td>\n",
              "      <td>Neutral</td>\n",
              "    </tr>\n",
              "    <tr>\n",
              "      <th>3</th>\n",
              "      <td>File_3</td>\n",
              "      <td>-1023.988403</td>\n",
              "      <td>-1023.988403</td>\n",
              "      <td>-1023.988403</td>\n",
              "      <td>-1023.988403</td>\n",
              "      <td>-1023.988403</td>\n",
              "      <td>-1023.988403</td>\n",
              "      <td>-1023.988403</td>\n",
              "      <td>-1023.988403</td>\n",
              "      <td>-1023.988403</td>\n",
              "      <td>...</td>\n",
              "      <td>-0.523052</td>\n",
              "      <td>-0.062958</td>\n",
              "      <td>0.022587</td>\n",
              "      <td>0.388317</td>\n",
              "      <td>1.085574</td>\n",
              "      <td>1.085574</td>\n",
              "      <td>1.085574</td>\n",
              "      <td>1.085574</td>\n",
              "      <td>1.085574</td>\n",
              "      <td>Calm</td>\n",
              "    </tr>\n",
              "    <tr>\n",
              "      <th>4</th>\n",
              "      <td>File_4</td>\n",
              "      <td>-1010.686584</td>\n",
              "      <td>-1010.686584</td>\n",
              "      <td>-1010.686584</td>\n",
              "      <td>-1010.686584</td>\n",
              "      <td>-1010.686584</td>\n",
              "      <td>-1010.686584</td>\n",
              "      <td>-1010.686584</td>\n",
              "      <td>-1010.686584</td>\n",
              "      <td>-1010.686584</td>\n",
              "      <td>...</td>\n",
              "      <td>-0.278640</td>\n",
              "      <td>-0.749013</td>\n",
              "      <td>-0.420844</td>\n",
              "      <td>0.157352</td>\n",
              "      <td>0.126219</td>\n",
              "      <td>0.126219</td>\n",
              "      <td>0.126219</td>\n",
              "      <td>0.126219</td>\n",
              "      <td>0.126219</td>\n",
              "      <td>Calm</td>\n",
              "    </tr>\n",
              "  </tbody>\n",
              "</table>\n",
              "<p>5 rows × 11000 columns</p>\n",
              "</div>\n",
              "    <div class=\"colab-df-buttons\">\n",
              "\n",
              "  <div class=\"colab-df-container\">\n",
              "    <button class=\"colab-df-convert\" onclick=\"convertToInteractive('df-a4c2a540-581c-44a4-b9e7-ca63214e570c')\"\n",
              "            title=\"Convert this dataframe to an interactive table.\"\n",
              "            style=\"display:none;\">\n",
              "\n",
              "  <svg xmlns=\"http://www.w3.org/2000/svg\" height=\"24px\" viewBox=\"0 -960 960 960\">\n",
              "    <path d=\"M120-120v-720h720v720H120Zm60-500h600v-160H180v160Zm220 220h160v-160H400v160Zm0 220h160v-160H400v160ZM180-400h160v-160H180v160Zm440 0h160v-160H620v160ZM180-180h160v-160H180v160Zm440 0h160v-160H620v160Z\"/>\n",
              "  </svg>\n",
              "    </button>\n",
              "\n",
              "  <style>\n",
              "    .colab-df-container {\n",
              "      display:flex;\n",
              "      gap: 12px;\n",
              "    }\n",
              "\n",
              "    .colab-df-convert {\n",
              "      background-color: #E8F0FE;\n",
              "      border: none;\n",
              "      border-radius: 50%;\n",
              "      cursor: pointer;\n",
              "      display: none;\n",
              "      fill: #1967D2;\n",
              "      height: 32px;\n",
              "      padding: 0 0 0 0;\n",
              "      width: 32px;\n",
              "    }\n",
              "\n",
              "    .colab-df-convert:hover {\n",
              "      background-color: #E2EBFA;\n",
              "      box-shadow: 0px 1px 2px rgba(60, 64, 67, 0.3), 0px 1px 3px 1px rgba(60, 64, 67, 0.15);\n",
              "      fill: #174EA6;\n",
              "    }\n",
              "\n",
              "    .colab-df-buttons div {\n",
              "      margin-bottom: 4px;\n",
              "    }\n",
              "\n",
              "    [theme=dark] .colab-df-convert {\n",
              "      background-color: #3B4455;\n",
              "      fill: #D2E3FC;\n",
              "    }\n",
              "\n",
              "    [theme=dark] .colab-df-convert:hover {\n",
              "      background-color: #434B5C;\n",
              "      box-shadow: 0px 1px 3px 1px rgba(0, 0, 0, 0.15);\n",
              "      filter: drop-shadow(0px 1px 2px rgba(0, 0, 0, 0.3));\n",
              "      fill: #FFFFFF;\n",
              "    }\n",
              "  </style>\n",
              "\n",
              "    <script>\n",
              "      const buttonEl =\n",
              "        document.querySelector('#df-a4c2a540-581c-44a4-b9e7-ca63214e570c button.colab-df-convert');\n",
              "      buttonEl.style.display =\n",
              "        google.colab.kernel.accessAllowed ? 'block' : 'none';\n",
              "\n",
              "      async function convertToInteractive(key) {\n",
              "        const element = document.querySelector('#df-a4c2a540-581c-44a4-b9e7-ca63214e570c');\n",
              "        const dataTable =\n",
              "          await google.colab.kernel.invokeFunction('convertToInteractive',\n",
              "                                                    [key], {});\n",
              "        if (!dataTable) return;\n",
              "\n",
              "        const docLinkHtml = 'Like what you see? Visit the ' +\n",
              "          '<a target=\"_blank\" href=https://colab.research.google.com/notebooks/data_table.ipynb>data table notebook</a>'\n",
              "          + ' to learn more about interactive tables.';\n",
              "        element.innerHTML = '';\n",
              "        dataTable['output_type'] = 'display_data';\n",
              "        await google.colab.output.renderOutput(dataTable, element);\n",
              "        const docLink = document.createElement('div');\n",
              "        docLink.innerHTML = docLinkHtml;\n",
              "        element.appendChild(docLink);\n",
              "      }\n",
              "    </script>\n",
              "  </div>\n",
              "\n",
              "\n",
              "<div id=\"df-a82649d0-1e27-495e-a38d-fa3859a9893b\">\n",
              "  <button class=\"colab-df-quickchart\" onclick=\"quickchart('df-a82649d0-1e27-495e-a38d-fa3859a9893b')\"\n",
              "            title=\"Suggest charts\"\n",
              "            style=\"display:none;\">\n",
              "\n",
              "<svg xmlns=\"http://www.w3.org/2000/svg\" height=\"24px\"viewBox=\"0 0 24 24\"\n",
              "     width=\"24px\">\n",
              "    <g>\n",
              "        <path d=\"M19 3H5c-1.1 0-2 .9-2 2v14c0 1.1.9 2 2 2h14c1.1 0 2-.9 2-2V5c0-1.1-.9-2-2-2zM9 17H7v-7h2v7zm4 0h-2V7h2v10zm4 0h-2v-4h2v4z\"/>\n",
              "    </g>\n",
              "</svg>\n",
              "  </button>\n",
              "\n",
              "<style>\n",
              "  .colab-df-quickchart {\n",
              "      --bg-color: #E8F0FE;\n",
              "      --fill-color: #1967D2;\n",
              "      --hover-bg-color: #E2EBFA;\n",
              "      --hover-fill-color: #174EA6;\n",
              "      --disabled-fill-color: #AAA;\n",
              "      --disabled-bg-color: #DDD;\n",
              "  }\n",
              "\n",
              "  [theme=dark] .colab-df-quickchart {\n",
              "      --bg-color: #3B4455;\n",
              "      --fill-color: #D2E3FC;\n",
              "      --hover-bg-color: #434B5C;\n",
              "      --hover-fill-color: #FFFFFF;\n",
              "      --disabled-bg-color: #3B4455;\n",
              "      --disabled-fill-color: #666;\n",
              "  }\n",
              "\n",
              "  .colab-df-quickchart {\n",
              "    background-color: var(--bg-color);\n",
              "    border: none;\n",
              "    border-radius: 50%;\n",
              "    cursor: pointer;\n",
              "    display: none;\n",
              "    fill: var(--fill-color);\n",
              "    height: 32px;\n",
              "    padding: 0;\n",
              "    width: 32px;\n",
              "  }\n",
              "\n",
              "  .colab-df-quickchart:hover {\n",
              "    background-color: var(--hover-bg-color);\n",
              "    box-shadow: 0 1px 2px rgba(60, 64, 67, 0.3), 0 1px 3px 1px rgba(60, 64, 67, 0.15);\n",
              "    fill: var(--button-hover-fill-color);\n",
              "  }\n",
              "\n",
              "  .colab-df-quickchart-complete:disabled,\n",
              "  .colab-df-quickchart-complete:disabled:hover {\n",
              "    background-color: var(--disabled-bg-color);\n",
              "    fill: var(--disabled-fill-color);\n",
              "    box-shadow: none;\n",
              "  }\n",
              "\n",
              "  .colab-df-spinner {\n",
              "    border: 2px solid var(--fill-color);\n",
              "    border-color: transparent;\n",
              "    border-bottom-color: var(--fill-color);\n",
              "    animation:\n",
              "      spin 1s steps(1) infinite;\n",
              "  }\n",
              "\n",
              "  @keyframes spin {\n",
              "    0% {\n",
              "      border-color: transparent;\n",
              "      border-bottom-color: var(--fill-color);\n",
              "      border-left-color: var(--fill-color);\n",
              "    }\n",
              "    20% {\n",
              "      border-color: transparent;\n",
              "      border-left-color: var(--fill-color);\n",
              "      border-top-color: var(--fill-color);\n",
              "    }\n",
              "    30% {\n",
              "      border-color: transparent;\n",
              "      border-left-color: var(--fill-color);\n",
              "      border-top-color: var(--fill-color);\n",
              "      border-right-color: var(--fill-color);\n",
              "    }\n",
              "    40% {\n",
              "      border-color: transparent;\n",
              "      border-right-color: var(--fill-color);\n",
              "      border-top-color: var(--fill-color);\n",
              "    }\n",
              "    60% {\n",
              "      border-color: transparent;\n",
              "      border-right-color: var(--fill-color);\n",
              "    }\n",
              "    80% {\n",
              "      border-color: transparent;\n",
              "      border-right-color: var(--fill-color);\n",
              "      border-bottom-color: var(--fill-color);\n",
              "    }\n",
              "    90% {\n",
              "      border-color: transparent;\n",
              "      border-bottom-color: var(--fill-color);\n",
              "    }\n",
              "  }\n",
              "</style>\n",
              "\n",
              "  <script>\n",
              "    async function quickchart(key) {\n",
              "      const quickchartButtonEl =\n",
              "        document.querySelector('#' + key + ' button');\n",
              "      quickchartButtonEl.disabled = true;  // To prevent multiple clicks.\n",
              "      quickchartButtonEl.classList.add('colab-df-spinner');\n",
              "      try {\n",
              "        const charts = await google.colab.kernel.invokeFunction(\n",
              "            'suggestCharts', [key], {});\n",
              "      } catch (error) {\n",
              "        console.error('Error during call to suggestCharts:', error);\n",
              "      }\n",
              "      quickchartButtonEl.classList.remove('colab-df-spinner');\n",
              "      quickchartButtonEl.classList.add('colab-df-quickchart-complete');\n",
              "    }\n",
              "    (() => {\n",
              "      let quickchartButtonEl =\n",
              "        document.querySelector('#df-a82649d0-1e27-495e-a38d-fa3859a9893b button');\n",
              "      quickchartButtonEl.style.display =\n",
              "        google.colab.kernel.accessAllowed ? 'block' : 'none';\n",
              "    })();\n",
              "  </script>\n",
              "</div>\n",
              "\n",
              "    </div>\n",
              "  </div>\n"
            ],
            "text/plain": [
              "     File    Feature_0    Feature_1    Feature_2    Feature_3    Feature_4  \\\n",
              "0  File_0  -894.628235  -894.628235  -894.628235  -894.628235  -894.628235   \n",
              "1  File_1 -1068.115723 -1068.115723 -1068.115723 -1068.115723 -1068.115723   \n",
              "2  File_2  -890.555115  -890.555115  -890.555115  -890.555115  -890.555115   \n",
              "3  File_3 -1023.988403 -1023.988403 -1023.988403 -1023.988403 -1023.988403   \n",
              "4  File_4 -1010.686584 -1010.686584 -1010.686584 -1010.686584 -1010.686584   \n",
              "\n",
              "     Feature_5    Feature_6    Feature_7    Feature_8  ...  Feature_10989  \\\n",
              "0  -894.628235  -894.628235  -894.628235  -894.628235  ...       0.214977   \n",
              "1 -1068.115723 -1068.115723 -1068.115723 -1068.115723  ...      -0.039285   \n",
              "2  -890.555115  -890.555115  -890.555115  -890.555115  ...       0.499987   \n",
              "3 -1023.988403 -1023.988403 -1023.988403 -1023.988403  ...      -0.523052   \n",
              "4 -1010.686584 -1010.686584 -1010.686584 -1010.686584  ...      -0.278640   \n",
              "\n",
              "   Feature_10990  Feature_10991  Feature_10992  Feature_10993  Feature_10994  \\\n",
              "0      -0.160975      -0.312369      -0.002868       0.289203       0.289203   \n",
              "1       0.743088       1.056236       0.809565       0.541603       0.541603   \n",
              "2       0.216365       0.346787       0.421624       0.238669       0.238669   \n",
              "3      -0.062958       0.022587       0.388317       1.085574       1.085574   \n",
              "4      -0.749013      -0.420844       0.157352       0.126219       0.126219   \n",
              "\n",
              "   Feature_10995  Feature_10996  Feature_10997    Label  \n",
              "0       0.289203       0.289203       0.289203  Neutral  \n",
              "1       0.541603       0.541603       0.541603     Calm  \n",
              "2       0.238669       0.238669       0.238669  Neutral  \n",
              "3       1.085574       1.085574       1.085574     Calm  \n",
              "4       0.126219       0.126219       0.126219     Calm  \n",
              "\n",
              "[5 rows x 11000 columns]"
            ]
          },
          "execution_count": 5,
          "metadata": {},
          "output_type": "execute_result"
        }
      ],
      "source": [
        "df5.head()"
      ]
    },
    {
      "cell_type": "markdown",
      "metadata": {
        "id": "O-jUfzlRQ27t"
      },
      "source": [
        "# **Others Features we can considered when the model are not satisfy**"
      ]
    },
    {
      "cell_type": "markdown",
      "metadata": {
        "id": "O23sMf00RIoX"
      },
      "source": [
        "# Extract chroma features\n",
        "chroma = librosa.feature.chroma_stft(y=y, sr=sr)\n",
        "\n",
        "# Extract spectral contrast\n",
        "spectral_contrast = librosa.feature.spectral_contrast(y=y, sr=sr)\n",
        "\n",
        "# Extract spectral centroid\n",
        "spectral_centroid = librosa.feature.spectral_centroid(y=y, sr=sr)\n",
        "\n",
        "# Extract zero-crossing rate\n",
        "zero_crossing_rate = librosa.feature.zero_crossing_rate(y)\n",
        "\n",
        "# Extract root mean square energy\n",
        "rms = librosa.feature.rms(y=y)\n",
        "\n",
        "# Extract mel spectrogram\n",
        "mel_spectrogram = librosa.feature.melspectrogram(y=y, sr=sr)\n"
      ]
    },
    {
      "cell_type": "code",
      "execution_count": null,
      "metadata": {
        "id": "tCKqhBDQNkST"
      },
      "outputs": [],
      "source": [
        "# # Load audio file\n",
        "# y, sr = librosa.load('your_audio_file.wav', sr=None)\n",
        "\n",
        "# # Extract MFCCs\n",
        "# mfcc = librosa.feature.mfcc(y=y, sr=sr, n_mfcc=13)\n",
        "\n",
        "# # Extract delta and delta-delta coefficients\n",
        "# mfcc_delta = librosa.feature.delta(mfcc)\n",
        "# mfcc_delta2 = librosa.feature.delta(mfcc, order=2)\n",
        "\n",
        "# # Extract chroma features\n",
        "# chroma = librosa.feature.chroma_stft(y=y, sr=sr)\n",
        "\n",
        "# # Extract spectral contrast\n",
        "# spectral_contrast = librosa.feature.spectral_contrast(y=y, sr=sr)\n",
        "\n",
        "# # Extract spectral centroid\n",
        "# spectral_centroid = librosa.feature.spectral_centroid(y=y, sr=sr)\n",
        "\n",
        "# # Extract zero-crossing rate\n",
        "# zero_crossing_rate = librosa.feature.zero_crossing_rate(y)\n",
        "\n",
        "# # Extract root mean square energy\n",
        "# rms = librosa.feature.rms(y=y)\n",
        "\n",
        "# # Extract mel spectrogram\n",
        "# mel_spectrogram = librosa.feature.melspectrogram(y=y, sr=sr)\n",
        "\n",
        "# # Combine all features\n",
        "# features = np.concatenate((mfcc, mfcc_delta, mfcc_delta2, chroma, spectral_contrast,\n",
        "#                            spectral_centroid, zero_crossing_rate, rms, mel_spectrogram), axis=0)\n",
        "\n",
        "# # Shape of features\n",
        "# print(\"Shape of combined features: \", features.shape)"
      ]
    },
    {
      "cell_type": "markdown",
      "metadata": {
        "id": "pZ7XVJVw0hTZ"
      },
      "source": [
        "# **Split data frame to smaller data (X,y)**"
      ]
    },
    {
      "cell_type": "code",
      "execution_count": 6,
      "metadata": {
        "id": "XnFks-sBckBa"
      },
      "outputs": [],
      "source": [
        "X=df5.iloc[:,1:-1]\n",
        "y=df5.iloc[:,-1]"
      ]
    },
    {
      "cell_type": "code",
      "execution_count": 7,
      "metadata": {
        "id": "TDTOWqULfSMb"
      },
      "outputs": [],
      "source": [
        "# Encode string class values as integers to avoid errors in newer versions of XGBoost\n",
        "label_encoder = LabelEncoder()\n",
        "label_encoder = label_encoder.fit(y)\n",
        "y = label_encoder.transform(y)"
      ]
    },
    {
      "cell_type": "code",
      "execution_count": 8,
      "metadata": {
        "id": "km4kqyYedVqW"
      },
      "outputs": [],
      "source": [
        "X=np.array(X)\n",
        "y=np.array(y)"
      ]
    },
    {
      "cell_type": "code",
      "execution_count": 9,
      "metadata": {
        "id": "z83vdSWt0gfA"
      },
      "outputs": [],
      "source": [
        "# using the train test split function\n",
        "X_train, X_test, y_train, y_test = train_test_split(X,y ,\n",
        "                                   random_state=104,\n",
        "                                   test_size=0.25,\n",
        "                                   shuffle=True)"
      ]
    },
    {
      "cell_type": "code",
      "execution_count": 10,
      "metadata": {
        "colab": {
          "base_uri": "https://localhost:8080/"
        },
        "id": "-I88lHOv199J",
        "outputId": "d95d5dce-63d8-42d5-8354-56914fa328da"
      },
      "outputs": [
        {
          "name": "stdout",
          "output_type": "stream",
          "text": [
            "(1440, 10998)\n",
            "(1440,)\n",
            "0.5416028499603271\n"
          ]
        }
      ],
      "source": [
        "print(X.shape)\n",
        "print(y.shape)\n",
        "print(X[1,-1])"
      ]
    },
    {
      "cell_type": "markdown",
      "metadata": {
        "id": "bUyIOt1khSMI"
      },
      "source": [
        "## **Using XGBoost**"
      ]
    },
    {
      "cell_type": "code",
      "execution_count": 11,
      "metadata": {
        "id": "m8WroiLF0TKn"
      },
      "outputs": [],
      "source": [
        "# Create the DMatrix for training and testing\n",
        "dtrain = xgb.DMatrix(X_train, label=y_train)\n",
        "dtest = xgb.DMatrix(X_test, label=y_test)"
      ]
    },
    {
      "cell_type": "code",
      "execution_count": 12,
      "metadata": {
        "id": "oHPEgzYleFah"
      },
      "outputs": [],
      "source": [
        "params = {\n",
        "    'objective': 'multi:softprob',\n",
        "    'max_depth': 13,\n",
        "    'learning_rate': 0.1,\n",
        "    'eta': 0.3,\n",
        "    'eval_metric': 'logloss',\n",
        "    'num_class':8\n",
        "}"
      ]
    },
    {
      "cell_type": "code",
      "execution_count": 23,
      "metadata": {
        "id": "wk8XRjEKfsZi"
      },
      "outputs": [],
      "source": [
        "# Train the model\n",
        "bst = xgb.train(params, dtrain, num_boost_round=500, )"
      ]
    },
    {
      "cell_type": "code",
      "execution_count": 24,
      "metadata": {
        "colab": {
          "base_uri": "https://localhost:8080/"
        },
        "id": "quw4qwLqghSE",
        "outputId": "f5b3e43e-c836-4f22-a43e-977484792918"
      },
      "outputs": [
        {
          "name": "stdout",
          "output_type": "stream",
          "text": [
            "Accuracy: 0.49\n"
          ]
        }
      ],
      "source": [
        "# Make predictions\n",
        "y_pred_prob = bst.predict(dtest)\n",
        "y_pred = [int(np.argmax(line)) for line in y_pred_prob]  # Convert probabilities to class predictions\n",
        "\n",
        "# Evaluate the model\n",
        "accuracy = accuracy_score(y_test, y_pred)\n",
        "print(f'Accuracy: {accuracy:.2f}')"
      ]
    },
    {
      "cell_type": "code",
      "execution_count": 25,
      "metadata": {
        "colab": {
          "base_uri": "https://localhost:8080/"
        },
        "id": "-eHodKjTi9cO",
        "outputId": "2de875d6-501c-4957-cbdb-5bb50d7d4e4e"
      },
      "outputs": [
        {
          "name": "stdout",
          "output_type": "stream",
          "text": [
            "Precision: 0.49\n",
            "Recall: 0.49\n"
          ]
        }
      ],
      "source": [
        "# Calculate precision and recall\n",
        "precision = precision_score(y_test, y_pred, average='macro')  # Use 'micro' or 'weighted' as needed\n",
        "recall = recall_score(y_test, y_pred, average='macro')        # Use 'micro' or 'weighted' as needed\n",
        "\n",
        "print(f'Precision: {precision:.2f}')\n",
        "print(f'Recall: {recall:.2f}')"
      ]
    },
    {
      "cell_type": "code",
      "execution_count": 26,
      "metadata": {
        "colab": {
          "base_uri": "https://localhost:8080/",
          "height": 201
        },
        "id": "sI5h-XoWgxcr",
        "outputId": "01534e6d-20dd-4cfd-ee1f-d862fcb7baf2"
      },
      "outputs": [
        {
          "data": {
            "image/png": "[encoded data removed]",
            "text/plain": [
              "<Figure size 640x480 with 1 Axes>"
            ]
          },
          "metadata": {},
          "output_type": "display_data"
        }
      ],
      "source": [
        "xgb.plot_tree(bst, num_trees=0)\n",
        "plt.show()"
      ]
    },
    {
      "cell_type": "code",
      "execution_count": 27,
      "metadata": {
        "colab": {
          "base_uri": "https://localhost:8080/",
          "height": 153
        },
        "id": "368nh_8irDHr",
        "outputId": "b462f077-c84d-4de5-c9e9-e3caf56409a0"
      },
      "outputs": [
        {
          "data": {
            "image/png": "[encoded data removed]",
            "text/plain": [
              "<Figure size 640x480 with 1 Axes>"
            ]
          },
          "metadata": {},
          "output_type": "display_data"
        }
      ],
      "source": [
        "xgb.plot_tree(bst, num_trees=1)\n",
        "plt.show()"
      ]
    }
  ],
  "metadata": {
    "colab": {
      "provenance": []
    },
    "kernelspec": {
      "display_name": "Python 3",
      "name": "python3"
    },
    "language_info": {
      "name": "python"
    }
  },
  "nbformat": 4,
  "nbformat_minor": 0
}
