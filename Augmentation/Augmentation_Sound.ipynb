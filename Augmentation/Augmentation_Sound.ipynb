{
  "nbformat": 4,
  "nbformat_minor": 0,
  "metadata": {
    "colab": {
      "provenance": []
    },
    "kernelspec": {
      "name": "python3",
      "display_name": "Python 3"
    },
    "language_info": {
      "name": "python"
    }
  },
  "cells": [
    {
      "cell_type": "code",
      "execution_count": null,
      "metadata": {
        "id": "vutUuU0o4vv1"
      },
      "outputs": [],
      "source": [
        "def addAWGN(signal, num_bits=16, augmented_num=2, snr_low=15, snr_high=30):\n",
        "    signal_len = len(signal)\n",
        "\n",
        "    # Tạo nhiễu Gaussian trắng\n",
        "    noise = np.random.normal(size=(augmented_num, signal_len))\n",
        "\n",
        "    # Chuẩn hóa tín hiệu và nhiễu\n",
        "    norm_constant = 2.0**(num_bits-1)\n",
        "    signal_norm = signal / norm_constant\n",
        "    noise_norm = noise / norm_constant\n",
        "\n",
        "    # Tính công suất tín hiệu và nhiễu\n",
        "    s_power = np.sum(signal_norm ** 2) / signal_len\n",
        "    n_power = np.sum(noise_norm ** 2, axis=1) / signal_len\n",
        "\n",
        "    # Tạo SNR mục tiêu\n",
        "    target_snr = np.random.randint(snr_low, snr_high)\n",
        "\n",
        "    # Tính ma trận K\n",
        "    K = np.sqrt((s_power / n_power) * 10 ** (- target_snr / 10))\n",
        "    K = np.ones((signal_len, augmented_num)) * K\n",
        "\n",
        "    # Tạo tín hiệu bị nhiễu\n",
        "    return signal + K.T * noise"
      ]
    }
  ]
}